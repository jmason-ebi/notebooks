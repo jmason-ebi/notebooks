{
 "cells": [
  {
   "cell_type": "markdown",
   "metadata": {},
   "source": [
    "# Counting KOMP2 generated colonies\n",
    "\n",
    "We retreived the list of KOMP2 generated colonies from iMits.  Using this list, count how many\n",
    "* Lines\n",
    "* Genes\n",
    "* Datapoints\n",
    "* Images\n",
    "\n",
    "are included in the current live data release"
   ]
  },
  {
   "cell_type": "code",
   "execution_count": 87,
   "metadata": {},
   "outputs": [],
   "source": [
    "import json\n",
    "import requests\n",
    "\n",
    "BASE_URL = \"\"\"https://www.ebi.ac.uk/mi/impc/solr\"\"\"\n",
    "MUTANT_DATA_URL = BASE_URL + \"\"\"/experiment/select?q=colony_id:\"{}\"&rows=1&fq=biological_sample_group:experimental\"\"\"\n",
    "MUTANT_IMAGES_URL = BASE_URL + \"\"\"/impc_images/select?q=colony_id:\"{}\"&rows=0\"\"\"\n",
    "\n",
    "CONTROL_DATA_URL = BASE_URL + \"\"\"/experiment/select?q=(project_name:BaSH OR project_name:DTCC OR project_name:JAX) AND biological_sample_group:control AND datasource_name:IMPC AND -pipeline_name:\"MGP Select Pipeline\"&rows=0\"\"\"\n",
    "CONTROL_IMAGES_URL = BASE_URL + \"\"\"/impc_images/select?q=(project_name:BaSH OR project_name:DTCC OR project_name:JAX) AND biological_sample_group:control AND datasource_name:IMPC AND -pipeline_name:\"MGP Select Pipeline\"&rows=0\"\"\"\n",
    "\n",
    "# SOURCE_FILE = \"KOMP2_colonies.tsv\"\n",
    "SOURCE_FILE = \"DCC_colonies.tsv\"\n"
   ]
  },
  {
   "cell_type": "code",
   "execution_count": 88,
   "metadata": {},
   "outputs": [
    {
     "name": "stdout",
     "output_type": "stream",
     "text": [
      "File has 3890 colonies\n"
     ]
    }
   ],
   "source": [
    "colonies = [x.split(\"\\t\")[1].strip().upper() for x in open(SOURCE_FILE).readlines()][1:]\n",
    "print(\"File has {} colonies\".format(len(colonies)))"
   ]
  },
  {
   "cell_type": "code",
   "execution_count": null,
   "metadata": {},
   "outputs": [
    {
     "name": "stdout",
     "output_type": "stream",
     "text": [
      "So far, found 50 colonies with data in DR\n",
      "So far, found 100 colonies with data in DR\n",
      "So far, found 150 colonies with data in DR\n",
      "So far, found 200 colonies with data in DR\n",
      "So far, found 250 colonies with data in DR\n",
      "So far, found 300 colonies with data in DR\n",
      "So far, found 350 colonies with data in DR\n",
      "So far, found 400 colonies with data in DR\n",
      "So far, found 450 colonies with data in DR\n",
      "So far, found 500 colonies with data in DR\n",
      "So far, found 550 colonies with data in DR\n",
      "So far, found 600 colonies with data in DR\n",
      "So far, found 650 colonies with data in DR\n",
      "So far, found 700 colonies with data in DR\n",
      "So far, found 50 colonies missing from DR\n",
      "So far, found 100 colonies missing from DR\n",
      "So far, found 150 colonies missing from DR\n",
      "So far, found 750 colonies with data in DR\n",
      "So far, found 800 colonies with data in DR\n",
      "So far, found 850 colonies with data in DR\n",
      "So far, found 900 colonies with data in DR\n",
      "So far, found 950 colonies with data in DR\n",
      "So far, found 1000 colonies with data in DR\n",
      "So far, found 1050 colonies with data in DR\n",
      "So far, found 1100 colonies with data in DR\n"
     ]
    }
   ],
   "source": [
    "\n",
    "missing_colonies = set()\n",
    "lines = set()\n",
    "genes = set()\n",
    "data_points = 0\n",
    "images = 0\n",
    "\n",
    "for colony in colonies:\n",
    "\n",
    "    retries = 0\n",
    "    while retries < 5:\n",
    "    \n",
    "        data = requests.get(MUTANT_DATA_URL.format(colony.replace(\"&\", \"%26\")))\n",
    "        if data.status_code != 200:\n",
    "            print(\"Error retreiving data for colony: {}, URL: {}\".format(colony, MUTANT_DATA_URL.format(colony)))\n",
    "            retries = retries + 1\n",
    "        else :\n",
    "            break\n",
    "        \n",
    "        \n",
    "    if data.status_code != 200:\n",
    "        print (\"Error retreiving data for colony: {}, URL: {}\".format(colony, MUTANT_DATA_URL.format(colony)))\n",
    "        continue\n",
    "        \n",
    "    num_found = data.json()['response']['numFound']\n",
    "    data_points = data_points + num_found\n",
    "\n",
    "    if num_found > 0:\n",
    "        genes.add(data.json()['response']['docs'][0]['gene_accession_id'])\n",
    "        lines.add(colony)\n",
    "\n",
    "        image_data = requests.get(MUTANT_IMAGES_URL.format(colony.replace(\"&\", \"%26\")))\n",
    "        if image_data.status_code != 200:\n",
    "            print (\"Error retreiving image data for colony: {}, URL: {}\".format(colony, MUTANT_IMAGES_URL.format(colony)))\n",
    "        else:\n",
    "            num_images_found = image_data.json()['response']['numFound']\n",
    "            images = images + num_images_found\n",
    "\n",
    "        if len(lines)%50 == 0:\n",
    "            print(\"So far, found {} colonies with data in DR\".format(len(lines)))\n",
    "\n",
    "    else:\n",
    "\n",
    "        missing_colonies.add(colony)\n",
    "        if len(missing_colonies)%50 == 0:\n",
    "            print(\"So far, found {} colonies missing from DR\".format(len(missing_colonies)))\n",
    "    \n",
    "\n",
    "\n"
   ]
  },
  {
   "cell_type": "code",
   "execution_count": null,
   "metadata": {},
   "outputs": [],
   "source": [
    "\n",
    "data = requests.get(CONTROL_DATA_URL)\n",
    "num_found = data.json()['response']['numFound']\n",
    "total_data_points = data_points + num_found\n",
    "\n",
    "\n",
    "image_data = requests.get(CONTROL_IMAGES_URL.format(colony))\n",
    "num_images_found = image_data.json()['response']['numFound']\n",
    "total_images = images + num_images_found\n",
    "\n",
    "\n",
    "print(\"* Lines: {}\".format(len(lines)))\n",
    "print(\"* Genes: {}\".format(len(genes)))\n",
    "print(\"* Datapoints: {}\".format(total_data_points))\n",
    "print(\"* Images: {}\".format(total_images))\n",
    "\n",
    "print(\"*\"*80)\n",
    "print(\"There are {} KOMP2 colonies ({} missing) in the DR. List of colonies in DR: \\n{}\".format(len(lines), len(missing_colonies), \"\\n\".join(lines)))\n",
    "print(\"List of missing colonies in DR: \\n{}\".format(\"\\n\".join(missing_colonies)))\n"
   ]
  },
  {
   "cell_type": "code",
   "execution_count": null,
   "metadata": {},
   "outputs": [],
   "source": []
  }
 ],
 "metadata": {
  "kernelspec": {
   "display_name": "Python 3",
   "language": "python",
   "name": "python3"
  },
  "language_info": {
   "codemirror_mode": {
    "name": "ipython",
    "version": 3
   },
   "file_extension": ".py",
   "mimetype": "text/x-python",
   "name": "python",
   "nbconvert_exporter": "python",
   "pygments_lexer": "ipython3",
   "version": "3.6.8"
  }
 },
 "nbformat": 4,
 "nbformat_minor": 2
}
